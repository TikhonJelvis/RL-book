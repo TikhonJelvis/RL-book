{
  "cells": [
    {
      "cell_type": "markdown",
      "source": [
        "**ReadMe**\n",
        "\n",
        "The question 1 is answered in part 3.\n",
        "\n",
        "The question 2 is answered in part 2.\n",
        "\n",
        "The question 3 is answered in part 1.\n",
        "\n",
        "The question 4 is answered in part 3."
      ],
      "metadata": {
        "id": "9zY0nC5dRQZo"
      }
    },
    {
      "cell_type": "code",
      "execution_count": 1,
      "metadata": {
        "colab": {
          "base_uri": "https://localhost:8080/"
        },
        "id": "sQ7fOoXubGwK",
        "outputId": "b4d47857-4a26-4200-ec4d-55116c2d209f"
      },
      "outputs": [
        {
          "output_type": "stream",
          "name": "stdout",
          "text": [
            "Mounted at /content/drive\n",
            "/content/drive/My Drive/Winter 2022/CME241\n"
          ]
        }
      ],
      "source": [
        "# This mounts your Google Drive to the Colab VM.\n",
        "from google.colab import drive\n",
        "drive.mount('/content/drive', force_remount=True)\n",
        "import sys\n",
        "%cd /content/drive/My\\ Drive/Winter\\ 2022/CME241"
      ]
    },
    {
      "cell_type": "code",
      "execution_count": 2,
      "metadata": {
        "id": "r394i0lObkhY"
      },
      "outputs": [],
      "source": [
        "from rl.distribution import *\n",
        "from rl.markov_process import *\n",
        "from rl.markov_decision_process import *\n",
        "from rl.policy import *\n",
        "from rl.dynamic_programming import *\n",
        "\n",
        "import matplotlib.pyplot as plt\n",
        "import time"
      ]
    },
    {
      "cell_type": "markdown",
      "metadata": {
        "id": "EcY29EPnRizD"
      },
      "source": [
        "#1. MC Error \\& TD Error"
      ]
    },
    {
      "cell_type": "markdown",
      "source": [
        "Consider that, by definition,\n",
        "\\begin{align*}\n",
        "  G_t = R_{t+1} + \\gamma \\cdot G_{t+1}\n",
        "\\end{align*}"
      ],
      "metadata": {
        "id": "jpiCRV2OPprI"
      }
    },
    {
      "cell_type": "markdown",
      "source": [
        "Therefore, \n",
        "\\begin{align*}\n",
        "  G_t - V(S_t) &= R_{t+1} + \\gamma \\cdot (G_{t+1} - V(S_{t+1})) + \\gamma \\cdot V(S_{t+1}) - V(S_t)\\\\\n",
        "  &= \\gamma \\cdot (G_{t+1} - V(S_{t+1}) + (R_{t+1}+ \\gamma \\cdot V(S_{t+1}) - V(S_t))\n",
        "\\end{align*}"
      ],
      "metadata": {
        "id": "gy6WRy9DP7Hf"
      }
    },
    {
      "cell_type": "markdown",
      "source": [
        "We can then summation on both side of the equation above with the multiplication of $\\gamma^t$ and get that\n",
        "\n",
        "\\begin{align*}\n",
        "  \\sum_{u=t}^{T-1} (\\gamma^{u}(G_u - V(S_u))) &= \\sum_{u=t}^{T-1} (\\gamma^{u+1} \\cdot (G_{u+1} - V(S_{u+1}) + \\gamma^{u} \\cdot (R_{u+1}+ \\gamma \\cdot V(S_{u+1}) - V(S_u)))\\\\\n",
        "  &= \\sum_{u=t+1}^{T} (\\gamma^{u+1} \\cdot (G_{u} - V(S_{u})) + \\sum_{u=t}^{T-1} (\\gamma^{u} \\cdot (R_{u+1}+ \\gamma \\cdot V(S_{u+1}) - V(S_u)))\n",
        "\\end{align*}"
      ],
      "metadata": {
        "id": "fZDxTTd5RYzI"
      }
    },
    {
      "cell_type": "markdown",
      "source": [
        "Therefore,\n",
        "\n",
        "\\begin{align*}\n",
        "  \\gamma^{t}(G_t - V(S_t)) - \\gamma^{T}(G_T - V(S_T)) &= \\sum_{u=t}^{T-1} (\\gamma^{u} \\cdot (R_{u+1}+ \\gamma \\cdot V(S_{u+1}) - V(S_u)))\\\\\n",
        "  (G_t - V(S_t)) - \\gamma^{T-t}(G_T - V(S_T)) &= \\sum_{u=t}^{T-1} (\\gamma^{u-t} \\cdot (R_{u+1}+ \\gamma \\cdot V(S_{u+1}) - V(S_u)))\n",
        "\\end{align*}"
      ],
      "metadata": {
        "id": "dWtEeY9FT0gv"
      }
    },
    {
      "cell_type": "markdown",
      "source": [
        "If $T-t$ is sufficeintly high, $\\gamma^{T-t}(G_T - V(S_T)) \\to 0$, so\n",
        "\\begin{align*}\n",
        "  G_t - V(S_t))&= \\sum_{u=t}^{T-1} (\\gamma^{u-t} \\cdot (R_{u+1}+ \\gamma \\cdot V(S_{u+1}) - V(S_u)))\n",
        "\\end{align*}"
      ],
      "metadata": {
        "id": "xbcRtM5aUn_e"
      }
    },
    {
      "cell_type": "markdown",
      "source": [
        "# 2. TD(λ)"
      ],
      "metadata": {
        "id": "mwpQOifjaVPX"
      }
    },
    {
      "cell_type": "code",
      "source": [
        ""
      ],
      "metadata": {
        "id": "7LNRyZlXzmuZ"
      },
      "execution_count": null,
      "outputs": []
    },
    {
      "cell_type": "markdown",
      "source": [
        "#3. n-Step Bootstraping"
      ],
      "metadata": {
        "id": "v_epUSBdVBmy"
      }
    }
  ],
  "metadata": {
    "colab": {
      "name": "Assignment12.ipynb",
      "provenance": []
    },
    "kernelspec": {
      "display_name": "Python 3",
      "name": "python3"
    },
    "language_info": {
      "name": "python"
    }
  },
  "nbformat": 4,
  "nbformat_minor": 0
}