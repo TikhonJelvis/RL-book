{
  "cells": [
    {
      "cell_type": "markdown",
      "source": [
        "**ReadMe**\n",
        "\n",
        "The question 2 is answered in part 1.\n",
        "\n",
        "The question 1 is answered in part 2."
      ],
      "metadata": {
        "id": "9zY0nC5dRQZo"
      }
    },
    {
      "cell_type": "code",
      "execution_count": 1,
      "metadata": {
        "colab": {
          "base_uri": "https://localhost:8080/"
        },
        "id": "sQ7fOoXubGwK",
        "outputId": "1c6f2e68-8b55-446b-a168-1c89b43910fa"
      },
      "outputs": [
        {
          "output_type": "stream",
          "name": "stdout",
          "text": [
            "Mounted at /content/drive\n",
            "/content/drive/My Drive/Winter 2022/CME241\n"
          ]
        }
      ],
      "source": [
        "# This mounts your Google Drive to the Colab VM.\n",
        "from google.colab import drive\n",
        "drive.mount('/content/drive', force_remount=True)\n",
        "import sys\n",
        "%cd /content/drive/My\\ Drive/Winter\\ 2022/CME241"
      ]
    },
    {
      "cell_type": "code",
      "execution_count": null,
      "metadata": {
        "id": "r394i0lObkhY"
      },
      "outputs": [],
      "source": [
        "from rl.distribution import *\n",
        "from rl.markov_process import *\n",
        "from rl.markov_decision_process import *\n",
        "from rl.policy import *\n",
        "from rl.dynamic_programming import *\n",
        "from scipy.stats import poisson\n",
        "\n",
        "import matplotlib.pyplot as plt\n",
        "import time"
      ]
    },
    {
      "cell_type": "markdown",
      "metadata": {
        "id": "EcY29EPnRizD"
      },
      "source": [
        "#1. Milk Vendor"
      ]
    },
    {
      "cell_type": "markdown",
      "source": [
        "Let $f$ be the pdf of the distribution of daily demand. $S$ be the supply to be chosen by us. $p$ is the cost for undersupply (we can think of it as an opportunity cost) and $h$ is the cost for oversupply. Thus, let\n",
        "\n",
        "\\begin{align*}\n",
        "  g_1(S) &= \\int_{-\\infty}^{\\infty} \\max(x-S,0) f(x)dx\\\\\n",
        "  g_2(S) &= \\int_{-\\infty}^{\\infty} \\max(S-x,0) f(x)dx\n",
        "\\end{align*}\n",
        "\n",
        "and the total cost will be\n",
        "\n",
        "\\begin{align*}\n",
        "  g(S) &= p g_1(S) + h g_2(S)\\\\\n",
        "  &= p\\int_{S}^{\\infty} (x-S) f(x)dx + h\\int_{-\\infty}^{S} (S-x) f(x)dx\\\\\n",
        "  &= p\\int_{S}^{\\infty} x f(x)dx - h\\int_{-\\infty}^{S} x f(x)dx + hS F(S) + pS(1-F(S))\n",
        "\\end{align*}\n",
        "\n",
        "Consider\n",
        "\\begin{align*}\n",
        "  g(S+δS) \n",
        "  &= p\\int_{S+δS}^{\\infty} x f(x)dx - h\\int_{-\\infty}^{S+δS} x f(x)dx + h(S+δS) F(S+δS) + p(S+δS)(1-F(S+δS))\n",
        "\\end{align*}\n",
        "\n",
        "Therefore,\n",
        "\\begin{align*}\n",
        "  g(S+δS) - g(S)\n",
        "  &= - p\\int_{S}^{S+δS} x f(x)dx - h\\int_{S}^{S+δS} x f(x)dx + hS (F(S+δS)-F(S)) - pS(F(S+δS)-F(S)) + hδSF(S+δS) +pδS -pδSF(S+δS)\\\\\n",
        "  g'(S) &= - (p+h)Sf(S) + (h-p)Sf(S) + (h-p)F(S) + p \n",
        "\\end{align*}\n",
        "\n",
        "Thus, the optimal $S$ will satisfy the first order condition\n",
        "\\begin{align*}\n",
        "  2p Sf(S) &= (h-p)F(S) + p \n",
        "\\end{align*}\n"
      ],
      "metadata": {
        "id": "lDShW0BcK7Gr"
      }
    },
    {
      "cell_type": "markdown",
      "source": [
        "## Costless Renegotiation"
      ],
      "metadata": {
        "id": "e4rhgpNQS0Vi"
      }
    },
    {
      "cell_type": "markdown",
      "source": [
        "We can see that the problem is similar to the optimal problem with put and call option. \n",
        "\n",
        "In this case, the amount of option we have to short for noth put anc call eill be predtermined by the value of $p$ and $h$. The only adjustable parameter is the strike price, in this one denoted as $S$. The $S$ can be renegotiate at no cost, so the maximization problem is to maximize\n",
        "\n",
        "\\begin{align*}\n",
        "\\end{align*}\n",
        "\n",
        "Note that in this problem, the dynamic of $X$, the final demand can be viewed aas independent from a day to another, as it is drawn indepenedently from $f$."
      ],
      "metadata": {
        "id": "r_qz3lr9S2zo"
      }
    },
    {
      "cell_type": "markdown",
      "source": [
        "# 2. Banker"
      ],
      "metadata": {
        "id": "mwpQOifjaVPX"
      }
    },
    {
      "cell_type": "markdown",
      "source": [
        "Since the action of borrowing and investing is to be done in the end of the day, we let the state be the observation at the end of the day.\n",
        "\n",
        "1. Payback: We borrow $y$ yesterday and have to pay it back $(1+R)y$\n",
        "2. Deposit: Let assume that the incoming deposit is a random variable $D$\n",
        "3. Withdrawal: Let assume that the incoming withdrawal is a random varaible $W$\n",
        "4. Penalty: If the start cash is less than $C$, we have to pay a penalty of $ \\cot\\left({\\frac{\\pi c}{2C}}\\right)$.\n",
        "5. Spot Prize Growth: from 1 to $S$\n",
        "6. Number of Investment: $v$\n",
        "7. Borrow: To get more cash at the end of the day\n",
        "8. Postponed Withdraw: $\\delta$\n",
        "9. Total balance: $b$\n",
        "\n",
        "\n",
        "Assume that we start the day with cash = $c$, debt = $y$, and postponed withdrawal = $\\delta$\n",
        "\n",
        "Before the start of the business day, the amount of money we have will be (after the penalty has been paid)\n",
        "\\begin{align*}\n",
        "  c \\ge 0\n",
        "\\end{align*}\n",
        "Since $c$ can be adjusted by borrowing, this constraint can be staisfied with sufficient amount of borrowing.\n",
        "\n",
        "After the morning, the amount of cash we have will be\n",
        "\\begin{align*}\n",
        "  c + D\n",
        "\\end{align*}\n",
        "Note that this value will be non-negative\n",
        "\n",
        "After the afternoon, the amount of cash we have will be\n",
        "\\begin{align*}\n",
        "  \\max(c + D - W - \\delta, 0)\n",
        "\\end{align*}\n",
        "and we postpone the withdrawal of $\\max(W + \\delta - D - c +p(c), 0)$ to tomorrow.\n",
        "\n",
        "\n",
        "At the evening, the amount of cash we have will be\n",
        "\\begin{align*}\n",
        "  \\max(c + D - W - \\delta, 0)\n",
        "\\end{align*}\n",
        "and the total balance becomes $b+D-W$.\n",
        "\n",
        "Thus, the total wealth will be cash $ = v S + \\max(c - p(c) + D - W - \\delta, 0) - y(1-R)$.\n",
        "\n",
        "The decision we have to make is to select $v$ and $y$ such that the next day welath become $c = \\text{cash} - v + b$."
      ],
      "metadata": {
        "id": "LlS67loFiwsN"
      }
    },
    {
      "cell_type": "markdown",
      "source": [
        "## State"
      ],
      "metadata": {
        "id": "jm3bpMUxDWDy"
      }
    },
    {
      "cell_type": "markdown",
      "source": [
        "We consider the state to consist of the following quantity.\n",
        "1. balance: $b \\ge 0$ \n",
        "2. postpone: $\\delta \\ge 0$\n",
        "3. total wealth: $x$ can be negative\n",
        "4. time: $t \\ge 0$\n",
        "\n",
        "The transition rule for time is $t' = t+1$ independent from every action or variable.\n",
        "\n",
        "$b$ will determine $W$ since $W$ cannot exceed $b$. Let $D$ be independent. \n",
        "\n",
        "Let $S$ be independent.\n",
        "\n",
        "Thus, given that the previous day we have $S = (b, \\delta, x, t)$.\n",
        "\n",
        "We selected action $A = (v, y)$ where $v$ is investment, and $y$ is amount borrowed.\n",
        "\n",
        "1. $c = x-v+y$ (At that time)\n",
        "2. $c = c - p(c)$ (At that time)\n",
        "3. $D$ is drawn from $f_D$ (Before the morning)\n",
        "4. $W$ is drawn from $f_W(b)$ (We draw it before updating $b$ since we assume that people will not depsoit and withdraw in the same day). (Before the morning)\n",
        "5. $c = c + D$ (After the morning)\n",
        "6. $b = b + D$ (After the morning)\n",
        "7. $W = W + \\delta$ (Before the afternoon)\n",
        "8. $\\delta = \\max(W-c, 0)$ (After the afternoon)\n",
        "9. $c = \\max(c-W, 0)$ (After the afternoon)\n",
        "10. $b = b - W$ (After the afternoon)\n",
        "11. $S$ is drawn from $f_S$ (After the afternoon)\n",
        "12. $x = vS + c - (1+R)y$\n",
        "13. $t = t+1$\n",
        "\n",
        "To sum up,\n",
        "1. $c = x-v+y$ \n",
        "2. $c = c - p(c) \\ge 0$\n",
        "3. $D, W, S$ are drawn from $f_D, f_W(b), f_S$, respectively.\n",
        "4. $b' = b + D - W$\n",
        "5. $c, \\delta' = \\max(c+D-W-\\delta, 0), \\max(W+\\delta-c-D, 0)$\n",
        "6. $x' = vS + c - (1+R)y$\n",
        "7. $t' = t+1$"
      ],
      "metadata": {
        "id": "_x3MFuiTD6BV"
      }
    },
    {
      "cell_type": "markdown",
      "source": [
        "## Mathematical Notion"
      ],
      "metadata": {
        "id": "J6e35_TBKrgK"
      }
    },
    {
      "cell_type": "markdown",
      "source": [
        "The state\n",
        "\n",
        "\\begin{align*}\n",
        "  \\mathcal{S} &= \\left\\{ (b, \\delta, x, t) \\in \\mathbf{R}_{+} \\times \\mathbf{R}_{+} \\times \\mathbf{R} \\times \\mathbf{N}_0 \\vert t \n",
        "  \\le T\\right\n",
        "  \\}\\\\\n",
        "  \\mathcal{N} &= \\left\\{ (b, \\delta, x, t) \\in \\mathbf{R}_{+} \\times \\mathbf{R}_{+} \\times \\mathbf{R} \\times \\mathbf{N}_0 \\vert t \n",
        "  \\le T-1\\right\n",
        "  \\}\\\\\n",
        "  \\mathcal{T} &= \\mathbf{R}_{+} \\times \\mathbf{R}_{+} \\times \\mathbf{R} \\times \\{T\\}\n",
        "\\end{align*}\n",
        "\n",
        "The action (which is dependent on the state)\n",
        "\\begin{align*}\n",
        "  \\mathcal{A}(x) &= \\left\\{ (v, y) \\in \\mathbf{R}_{+} \\times \\mathbf{R}_{+} \\vert x-v+y \\ge C \\text{ or } x-v+y \\ge \\cot\\left({\\frac{\\pi x-v+y}{2C}}\\right)\\right \\}\n",
        "\\end{align*}\n",
        "\n",
        "The reward will be $0$ at every transotion, except for at the transition from time $T-1$ to $T$, where the reward will be the final $x$. This problem can then be solved by backward induction with ADP."
      ],
      "metadata": {
        "id": "nnnUk5cswbch"
      }
    }
  ],
  "metadata": {
    "colab": {
      "name": "Assignment8.ipynb",
      "provenance": []
    },
    "kernelspec": {
      "display_name": "Python 3",
      "name": "python3"
    },
    "language_info": {
      "name": "python"
    }
  },
  "nbformat": 4,
  "nbformat_minor": 0
}