{
  "cells": [
    {
      "cell_type": "markdown",
      "metadata": {
        "id": "9zY0nC5dRQZo"
      },
      "source": [
        "**ReadMe**\n",
        "\n",
        "The question 1 is answered in part 1.\n",
        "\n",
        "The question 2 is answered in part 1.\n",
        "\n",
        "The question 3 is answered in part 2."
      ]
    },
    {
      "cell_type": "code",
      "execution_count": 1,
      "metadata": {
        "colab": {
          "base_uri": "https://localhost:8080/"
        },
        "id": "sQ7fOoXubGwK",
        "outputId": "09a0bfc9-489d-4fc6-db32-d1c16d679542"
      },
      "outputs": [
        {
          "output_type": "stream",
          "name": "stdout",
          "text": [
            "Mounted at /content/drive\n",
            "/content/drive/My Drive/Winter 2022/CME241\n"
          ]
        }
      ],
      "source": [
        "# This mounts your Google Drive to the Colab VM.\n",
        "from google.colab import drive\n",
        "drive.mount('/content/drive', force_remount=True)\n",
        "import sys\n",
        "%cd /content/drive/My\\ Drive/Winter\\ 2022/CME241"
      ]
    },
    {
      "cell_type": "code",
      "execution_count": 3,
      "metadata": {
        "id": "r394i0lObkhY"
      },
      "outputs": [],
      "source": [
        "import numpy as np\n",
        "import matplotlib.pyplot as plt"
      ]
    },
    {
      "cell_type": "markdown",
      "source": [
        "#1. Portfolio Optimization"
      ],
      "metadata": {
        "id": "48kFwRR7snaC"
      }
    },
    {
      "cell_type": "markdown",
      "source": [
        "## Normal Return and Quadratic Utility"
      ],
      "metadata": {
        "id": "H5tBRDa294NY"
      }
    },
    {
      "cell_type": "markdown",
      "source": [
        "From that $U(x) = x -\\frac{\\alpha x^2}{2}$ and $x \\sim \\mathcal{N}(\\mu, \\sigma^2)$, the expected utilty will be \n",
        "\n",
        "\\begin{align*}\n",
        "\\mathbf{E}[U(x)] &= ∫_{-\\infty}^{\\infty} \\left(x -\\frac{\\alpha x^2}{2}\\right) \\frac{1}{\\sqrt{2\\pi}\\sigma} e^{-\\frac{1}{2}\\left(\\frac{x-\\mu}{\\sigma}\\right)^2}dx\\\\\n",
        "&= ∫_{-\\infty}^{\\infty} \\left(x + \\mu -\\frac{\\alpha x^2}{2}-\\frac{\\alpha \\mu^2}{2} -2\\alpha x\\mu\\right) \\frac{1}{\\sqrt{2\\pi}\\sigma} e^{-\\frac{1}{2}\\left(\\frac{x}{\\sigma}\\right)^2}dx\\\\\n",
        "&= \\mu -\\frac{\\alpha \\mu^2}{2} + ∫_{-\\infty}^{\\infty} \\left(-\\frac{\\alpha x^2}{2}\\right) \\frac{1}{\\sqrt{2\\pi}\\sigma} e^{-\\frac{1}{2}\\left(\\frac{x}{\\sigma}\\right)^2}dx\\\\\n",
        "&= \\mu -\\frac{\\alpha \\mu^2}{2} - \\frac{\\alpha}{2} ∫_{-\\infty}^{\\infty} x^2 \\frac{1}{\\sqrt{2\\pi}\\sigma} e^{-\\frac{1}{2}\\left(\\frac{x}{\\sigma}\\right)^2}dx\\\\\n",
        "&= \\mu -\\frac{\\alpha}{2}(\\mu^2 + \\sigma^2)\n",
        "\\end{align*}\n",
        "\n",
        "Thus, we will see that when the variance become higher, the expected utility will be lowered.\n",
        "\n",
        "From this point, we can find the certainty equivalent $x_{CE}$.\n",
        "Note that if $\\alpha \\to 0$, $x_{CE} \\to \\mu$.\n",
        "\n",
        "\\begin{align*}\n",
        "x_{CE} -\\frac{\\alpha}{2} x_{CE}^2 &= \\mu -\\frac{\\alpha}{2}(\\mu^2 + \\sigma^2)\\\\\n",
        "x_{CE}^2 -\\frac{2}{\\alpha} x_{CE} &= \\mu^2 + \\sigma^2 -\\frac{2}{\\alpha} \\mu\\\\\n",
        "\\left(x_{CE} - \\frac{1}{\\alpha} \\right)^2 &= \\mu^2 + \\sigma^2 -\\frac{2}{\\alpha} \\mu + \\frac{1}{\\alpha^2}\\\\\n",
        "&= \\left(\\mu - \\frac{1}{\\alpha}\\right)^2 + \\sigma^2\n",
        "\\end{align*}\n",
        "\n",
        "The answer will not be unique, since the utility function is a parabola. However, in this one, we assume that $\\alpha$ is small enough (so that the utikltiy is increasing in the region where our distribution is mostly in), and we assume that the certainty equivalent will be the one souch that both terms inside square are negative. Thus,\n",
        "\n",
        "\\begin{align*}\n",
        "-x_{CE} + \\frac{1}{\\alpha}\n",
        "&= \\sqrt{\\left(\\frac{1}{\\alpha} - \\mu\\right)^2 + \\sigma^2}\\\\\n",
        "x_{CE} &= \\frac{1}{\\alpha} - \\sqrt{\\left(\\frac{1}{\\alpha} - \\mu\\right)^2 + \\sigma^2}\n",
        "\\end{align*}\n",
        "\n",
        "Risk premium will be\n",
        "\\begin{align*}\n",
        "\\pi_A\n",
        "&= \\mu - x_{CE}\\\\\n",
        "&= \\mu - \\frac{1}{\\alpha} + \\sqrt{\\left(\\frac{1}{\\alpha} - \\mu\\right)^2 + \\sigma^2}\\\\\n",
        "&= \\sqrt{\\left(\\frac{1}{\\alpha} - \\mu\\right)^2 + \\sigma^2} - \\left(\\frac{1}{\\alpha} - \\mu\\right)\n",
        "\\end{align*}\n",
        "\n",
        "\n",
        "Next, we will look into how this knowledge be useful for finding optimal stratgey for the (specific) investment.\n",
        "\n",
        "Let $x$ be a return of one dollar in the risky investment after 1 year, so $x \\sim \\mathcal{N}(\\mu, \\sigma^2)$.\n",
        "\n",
        "Thus, for the strategy in which we put $z$ in the risky investment and $1,000,000 - z$ for the risk-free investment, the (random) return will be $1000000 + zx + (1000000-z)r \\sim \\mathcal{N}(1000000 + z\\mu + (1000000-z)r, z^2\\sigma^2)$. Thus, the expected utility will be $1000000+z\\mu + (1000000-z)r - \\frac{\\alpha}{2} \\left( (1000000+z\\mu + (1000000-z)r)^2 + z^2\\sigma^2\\right)$. \n",
        "\n",
        "It is obvious that if $\\mu \\le r$, then the optimal $z = -\\infty$. Thus, we will consider the case when $\\mu > r$.\n",
        "\n",
        "The optimal $z$ will satisfy \n",
        "\\begin{align*}\n",
        "0 &= \\mu-r -\\alpha\\sigma^2z -\\alpha(1000000+z\\mu + (1000000-z)r)(\\mu-r)\\\\\n",
        "\\mu-r &= \\alpha\\sigma^2z + \\alpha(\\mu-r)(1000000(1+r)+z(\\mu-r))\\\\\n",
        "z(\\alpha\\sigma^2+\\alpha(\\mu-r)^2) &= (\\mu-r)(1-1000000\\alpha (1+r))\\\\\n",
        "z &= \\frac{(\\mu-r)(1-1000000\\alpha (1+r))}{\\alpha\\sigma^2+\\alpha(\\mu-r)^2}\n",
        "\\end{align*}\n",
        "\n",
        "For visualization, let consider the case when $r=0.04$, $\\sigma = 0.20$, and $\\mu=0.10$."
      ],
      "metadata": {
        "id": "bxw6BAU7s61q"
      }
    },
    {
      "cell_type": "code",
      "execution_count": 21,
      "metadata": {
        "id": "PePvvdW3GyHs",
        "colab": {
          "base_uri": "https://localhost:8080/",
          "height": 299
        },
        "outputId": "ca28c59c-3280-4c25-c560-e5e1f595eca6"
      },
      "outputs": [
        {
          "output_type": "display_data",
          "data": {
            "image/png": "[encoded data removed]",
            "text/plain": [
              "<Figure size 432x288 with 1 Axes>"
            ]
          },
          "metadata": {
            "needs_background": "light"
          }
        }
      ],
      "source": [
        "r = 0.04\n",
        "mu = 0.10\n",
        "sigma = 0.20\n",
        "\n",
        "alpha_arr = np.linspace(0.0000001,0.000002, 500)\n",
        "\n",
        "z_arr = []\n",
        "\n",
        "for alpha in alpha_arr:\n",
        "  z = (mu-r)*(1-1000000*alpha*(1+r)) / alpha / (np.square(sigma) + np.square(mu-r))\n",
        "  z_arr.append(z)\n",
        "\n",
        "plt.plot(alpha_arr, z_arr)\n",
        "plt.xscale('log')\n",
        "#plt.yscale('log')\n",
        "plt.xlabel('alpha')\n",
        "plt.ylabel('z')\n",
        "plt.title('Investment when short is allowed')\n",
        "plt.show()"
      ]
    },
    {
      "cell_type": "markdown",
      "source": [
        "If we impose the constraint that short is not allowed. Then $z = max(0, min(z, 1000000))$"
      ],
      "metadata": {
        "id": "pmTqo6M7NnZJ"
      }
    },
    {
      "cell_type": "code",
      "source": [
        "r = 1.04\n",
        "mu = 1.10\n",
        "sigma = 0.20\n",
        "\n",
        "alpha_arr = np.linspace(0.0000001,0.000002, 500)\n",
        "z_arr = []\n",
        "\n",
        "for alpha in alpha_arr:\n",
        "  z = (mu-r)*(1-1000000*alpha*(1+r)) / alpha / (np.square(sigma) + np.square(mu-r))\n",
        "  z_arr.append(max(0, min(z, 1000000)))\n",
        "\n",
        "plt.plot(alpha_arr, z_arr)\n",
        "plt.xscale('log')\n",
        "plt.xlabel('alpha')\n",
        "plt.ylabel('z')\n",
        "plt.title('Investment when short is not allowed')\n",
        "plt.show()"
      ],
      "metadata": {
        "colab": {
          "base_uri": "https://localhost:8080/",
          "height": 299
        },
        "id": "yBfRY_TtL8G3",
        "outputId": "d23bdb70-439b-4701-84e5-ed5d7640adcc"
      },
      "execution_count": 22,
      "outputs": [
        {
          "output_type": "display_data",
          "data": {
            "image/png": "[encoded data removed]",
            "text/plain": [
              "<Figure size 432x288 with 1 Axes>"
            ]
          },
          "metadata": {
            "needs_background": "light"
          }
        }
      ]
    },
    {
      "cell_type": "markdown",
      "source": [
        "## Log-Normal Return and Log Utility"
      ],
      "metadata": {
        "id": "wTxdctZlOWs9"
      }
    },
    {
      "cell_type": "markdown",
      "source": [
        "The normal return is usually deemed unrealistic due to the fact that the price can go below zero. Therefore, we somtimes model the transition is price as an exponential of a normal random variable instead. \n",
        "\n",
        "Moreover, the quadratic utility is also not quite realistic. Although it is strictly concave, it is not even weakly monotone. In this formulation, we focus on log utility function, which is a type of CRRA utility.\n",
        "\n",
        "We will further assume that the portfoilio can be dynamically adjusted as the time advances in order to maintain the ratio of investment in the risky asset to be a constant $\\pi$.\n",
        "\n",
        "Let the return of a unit investment in a risky asset be $X$, which is a random variable. In this process, let $B_t$ be a brownian motion, and $W_t$ be wealth. Consider the change of wealth at an infinistesimal time\n",
        "\n",
        "\\begin{align*}\n",
        "  dW_t =  (r+\\pi(\\mu-r))W_tdt + \\pi\\sigma W_tdB_t\n",
        "\\end{align*}\n",
        "\n",
        "Thus, from Ito's Formula and the marginal distribution of a brwonian motion,\n",
        "\\begin{align*}\n",
        "  \\log W_1 \\sim \\mathcal{N}(r+\\pi(\\mu-r) - \\frac{\\pi^2\\sigma^2}{2}, \\pi^2\\sigma^2)\n",
        "\\end{align*}\n",
        "\n",
        "Thus, we have to maximize\n",
        "\\begin{align*}\n",
        "  \\mathbf{E}[U(W_1)] = \\mathbf{E}[\\log W_1]\n",
        "  = r+\\pi(\\mu-r) - \\frac{\\pi^2\\sigma^2}{2}\n",
        "\\end{align*}\n",
        "\n",
        "Thus, the optimal $\\pi$ is \n",
        "\\begin{align*}\n",
        "  \\frac{\\mu-r}{\\gamma \\sigma^2}\n",
        "\\end{align*}\n",
        "\n",
        "when $\\mu > r$. Otherwise, $\\pi^* = 0$."
      ],
      "metadata": {
        "id": "QLULZO8n-Tp5"
      }
    },
    {
      "cell_type": "markdown",
      "source": [
        "#2. Casino Game"
      ],
      "metadata": {
        "id": "eNf18hVe_Ixc"
      }
    },
    {
      "cell_type": "markdown",
      "source": [
        "With probability $p$, the outcome will be $W = W_0 + f\\alpha W_0$ and the utility will be $\\log W = \\log W_0 + \\log(1+f\\alpha)$.\n",
        "\n",
        "With probability $1-p$, the outcome will be $W = W_0 - f\\beta W_0$ and the utility will be $\\log W = \\log W_0 + \\log(1-f\\beta)$.\n",
        "\n",
        "Thus, the expected utility will be $\\log W_0 + p\\log(1+f\\alpha) + (1-p)\\log(1-f\\beta)$.\n",
        "\n",
        "Therefore, we will see that the optimal strategy for $f$ will be a constant throughout the game.\n",
        "\n",
        "From the expression of the expected utility, the optimal $f$ will satisfy the first order condition\n",
        "\\begin{align*}\n",
        "  \\frac{p\\alpha}{1+f\\alpha} &= \\frac{(1-p)\\beta}{1-f\\beta}\\\\\n",
        "  p\\alpha-p\\alpha f\\beta\\ &=(1-p)\\beta +(1-p)\\beta f\\alpha\\\\\n",
        "  \\beta f\\alpha &= p(\\alpha+\\beta) - \\beta\\\\\n",
        "  f &= p \\left( \\frac{1}{\\alpha} + \\frac{1}{\\beta}\\right) - \\frac{1}{\\alpha}\n",
        "\\end{align*}\n",
        "\n",
        "Note that we do not have to explicitly confirm the second order condition since log function is concave, so log of an affine function of $f$ will be a concave function in $f$. Thus, if the derivative of the expected utility function with respect to $f$ is zero, the position will be both local maximum and global maximum.\n",
        "\n",
        "Note that $\\alpha$ has to be large enough comparing to $\\beta$, otherwise $f$ will be negative (which can be thought of as being the seller instead). This can be rationalized by considering a more simple case, risk neutral.\n",
        "\n",
        "In the risk neutral setting, we will select $f$ to be positive only if the expected return is higher than zero, which is when $\\alpha$ is relatively large enough. If $\\alpha$ is too small, the optimal $f$ will be zero (if we are nit allowed to sell). In this setting, we are risk-averse, so we will employ $f$ to be zero for every case that we would employ zero if we were risk neutral.\n",
        "\n",
        "\n"
      ],
      "metadata": {
        "id": "miF8FI73qyjl"
      }
    }
  ],
  "metadata": {
    "colab": {
      "name": "Assignment6.ipynb",
      "provenance": []
    },
    "kernelspec": {
      "display_name": "Python 3",
      "name": "python3"
    },
    "language_info": {
      "name": "python"
    }
  },
  "nbformat": 4,
  "nbformat_minor": 0
}