{
  "cells": [
    {
      "cell_type": "markdown",
      "source": [
        "ReadMe:\n",
        "\n",
        "Question 1 is answered in part 1. (unfinished)"
      ],
      "metadata": {
        "id": "bWp2PQY4P2-x"
      }
    },
    {
      "cell_type": "code",
      "execution_count": 1,
      "metadata": {
        "id": "sQ7fOoXubGwK",
        "colab": {
          "base_uri": "https://localhost:8080/"
        },
        "outputId": "9d210ffb-4748-439e-fe0f-69cb8480f1b1"
      },
      "outputs": [
        {
          "output_type": "stream",
          "name": "stdout",
          "text": [
            "Mounted at /content/drive\n",
            "/content/drive/My Drive/Winter 2022/CME241\n"
          ]
        }
      ],
      "source": [
        "# This mounts your Google Drive to the Colab VM.\n",
        "from google.colab import drive\n",
        "drive.mount('/content/drive', force_remount=True)\n",
        "import sys\n",
        "%cd /content/drive/My\\ Drive/Winter\\ 2022/CME241"
      ]
    },
    {
      "cell_type": "code",
      "execution_count": 17,
      "metadata": {
        "id": "r394i0lObkhY"
      },
      "outputs": [],
      "source": [
        "from rl.distribution import *\n",
        "from rl.markov_process import *\n",
        "from rl.markov_decision_process import *\n",
        "from rl.policy import *\n",
        "\n",
        "import matplotlib.pyplot as plt"
      ]
    },
    {
      "cell_type": "code",
      "source": [
        "from rl.chapter9.order_book import *"
      ],
      "metadata": {
        "id": "z9r2v5veM2cU"
      },
      "execution_count": 2,
      "outputs": []
    },
    {
      "cell_type": "markdown",
      "metadata": {
        "id": "EcY29EPnRizD"
      },
      "source": [
        "#1. Order Book Dynamics"
      ]
    },
    {
      "cell_type": "markdown",
      "source": [
        "First, we will try to investigate on how the class OrderBook works. \n",
        "\n",
        "Let us consider a simple example, where the orderbook is small. Says the orderbook contains \n",
        "1. descending_bids = [(4.00, 2), (3.70, 3), (2.10, 1)]\n",
        "2. ascending_asks = [(4.05, 4), (4.3, 7)]"
      ],
      "metadata": {
        "id": "lDShW0BcK7Gr"
      }
    },
    {
      "cell_type": "code",
      "source": [
        "descending_bids = [DollarsAndShares(dollars=4.00, shares=2), DollarsAndShares(dollars=3.70, shares=3), DollarsAndShares(dollars=2.10, shares=1)]\n",
        "ascending_asks = [DollarsAndShares(dollars=4.05, shares=4), DollarsAndShares(dollars=4.30, shares=7)]"
      ],
      "metadata": {
        "id": "Opr2ZEEqQPPL"
      },
      "execution_count": 35,
      "outputs": []
    },
    {
      "cell_type": "markdown",
      "source": [
        "From the bids and asks, we can create an orderbook"
      ],
      "metadata": {
        "id": "VcflSXKoQ0He"
      }
    },
    {
      "cell_type": "code",
      "source": [
        "Book = OrderBook(descending_bids=descending_bids, ascending_asks=ascending_asks)"
      ],
      "metadata": {
        "id": "BAr3BR1uQyem"
      },
      "execution_count": 36,
      "outputs": []
    },
    {
      "cell_type": "code",
      "source": [
        "print('Bid Price: ', Book.bid_price())\n",
        "print('Ask Price: ', Book.ask_price())\n",
        "print('Mid Price: ', Book.mid_price())\n",
        "print('Spread: ', Book.bid_ask_spread())\n",
        "print('Depth: ', Book.market_depth())\n",
        "\n",
        "Book.display_order_book()"
      ],
      "metadata": {
        "colab": {
          "base_uri": "https://localhost:8080/",
          "height": 380
        },
        "id": "SuGNTLlGQ921",
        "outputId": "5136d99a-eb6a-4a80-894f-4d535a5165f6"
      },
      "execution_count": 37,
      "outputs": [
        {
          "output_type": "stream",
          "name": "stdout",
          "text": [
            "Bid Price:  4.0\n",
            "Ask Price:  4.05\n",
            "Mid Price:  4.025\n",
            "Spread:  0.04999999999999982\n",
            "Depth:  2.1999999999999997\n"
          ]
        },
        {
          "output_type": "display_data",
          "data": {
            "image/png": "[encoded data removed]",
            "text/plain": [
              "<Figure size 432x288 with 1 Axes>"
            ]
          },
          "metadata": {
            "needs_background": "light"
          }
        }
      ]
    },
    {
      "cell_type": "markdown",
      "source": [
        "If we try to push a sell limit order (ask) for a price higher than the (highest) bids, the transaction will not occur and the sell limit order will be added into the ascending_asks in the orderbook."
      ],
      "metadata": {
        "id": "6F7NPQFOtzOe"
      }
    },
    {
      "cell_type": "code",
      "source": [
        "Book.descending_bids"
      ],
      "metadata": {
        "colab": {
          "base_uri": "https://localhost:8080/"
        },
        "id": "9NeMdX6rvvFq",
        "outputId": "0f3cba23-ccde-48c6-d37b-3a29d32dee4c"
      },
      "execution_count": 38,
      "outputs": [
        {
          "output_type": "execute_result",
          "data": {
            "text/plain": [
              "[DollarsAndShares(dollars=4.0, shares=2),\n",
              " DollarsAndShares(dollars=3.7, shares=3),\n",
              " DollarsAndShares(dollars=2.1, shares=1)]"
            ]
          },
          "metadata": {},
          "execution_count": 38
        }
      ]
    },
    {
      "cell_type": "code",
      "source": [
        "Book.sell_limit_order(price = 8.00, shares=3)[0]"
      ],
      "metadata": {
        "colab": {
          "base_uri": "https://localhost:8080/"
        },
        "id": "-aPO5QpmtcsQ",
        "outputId": "cab60734-859c-46e8-ae2f-0eb267eda5dd"
      },
      "execution_count": 39,
      "outputs": [
        {
          "output_type": "execute_result",
          "data": {
            "text/plain": [
              "DollarsAndShares(dollars=0.0, shares=0)"
            ]
          },
          "metadata": {},
          "execution_count": 39
        }
      ]
    },
    {
      "cell_type": "markdown",
      "source": [
        "If we push a sell limit order cheaper than the bids, the bids will be eaten until the best bid is lower than the sell limit order price. The price that the seller will get is the price in the limit order book."
      ],
      "metadata": {
        "id": "UqY8hIOrvQc6"
      }
    },
    {
      "cell_type": "code",
      "source": [
        "Book.sell_limit_order(price = 3.00, shares=8)[0]"
      ],
      "metadata": {
        "colab": {
          "base_uri": "https://localhost:8080/"
        },
        "id": "SISMoxbovz89",
        "outputId": "0876ff83-bb3a-4aed-b46f-fae21da04e5b"
      },
      "execution_count": 41,
      "outputs": [
        {
          "output_type": "execute_result",
          "data": {
            "text/plain": [
              "DollarsAndShares(dollars=19.1, shares=5)"
            ]
          },
          "metadata": {},
          "execution_count": 41
        }
      ]
    },
    {
      "cell_type": "markdown",
      "source": [
        "Next, we try to use market order."
      ],
      "metadata": {
        "id": "wyZr5oKWy1nA"
      }
    },
    {
      "cell_type": "code",
      "source": [
        "Book.sell_market_order(shares=8)[0]"
      ],
      "metadata": {
        "colab": {
          "base_uri": "https://localhost:8080/"
        },
        "id": "vyPuYE10yyMs",
        "outputId": "54018e36-9d4b-4d82-f86a-4f3c5ae7d530"
      },
      "execution_count": 42,
      "outputs": [
        {
          "output_type": "execute_result",
          "data": {
            "text/plain": [
              "DollarsAndShares(dollars=21.200000000000003, shares=6)"
            ]
          },
          "metadata": {},
          "execution_count": 42
        }
      ]
    },
    {
      "cell_type": "markdown",
      "source": [
        "##Simple Model"
      ],
      "metadata": {
        "id": "92NhAmX6wPRA"
      }
    },
    {
      "cell_type": "markdown",
      "source": [
        "We first consider a simple model of the double auction seen in the limited order book. We will first consider the case when the inputing limit orders and market orders are iid. (suggested by the paper \"Statistical Theory of the Continuous Double Auction\").\n",
        "\n",
        "Thus, we can assume that the sell market order is poisson with a parameter $\\lambda_a$, and the buy market order is poisson with a parameter $\\lambda_b$"
      ],
      "metadata": {
        "id": "QNhQi68mxZe4"
      }
    }
  ],
  "metadata": {
    "colab": {
      "name": "Assignment9.ipynb",
      "provenance": []
    },
    "kernelspec": {
      "display_name": "Python 3",
      "name": "python3"
    },
    "language_info": {
      "name": "python"
    }
  },
  "nbformat": 4,
  "nbformat_minor": 0
}