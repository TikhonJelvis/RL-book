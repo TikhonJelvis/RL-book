{
  "cells": [
    {
      "cell_type": "markdown",
      "source": [
        "ReadMe:\n",
        "\n",
        "Question 1 is answered in part 1.\n",
        "\n",
        "Question 2 is answered in part 2. (unfinished)"
      ],
      "metadata": {
        "id": "bWp2PQY4P2-x"
      }
    },
    {
      "cell_type": "code",
      "execution_count": 1,
      "metadata": {
        "id": "sQ7fOoXubGwK",
        "colab": {
          "base_uri": "https://localhost:8080/"
        },
        "outputId": "c41b93b9-092d-40de-89f0-6bfab4db1fec"
      },
      "outputs": [
        {
          "output_type": "stream",
          "name": "stdout",
          "text": [
            "Mounted at /content/drive\n",
            "/content/drive/My Drive/Winter 2022/CME241\n"
          ]
        }
      ],
      "source": [
        "# This mounts your Google Drive to the Colab VM.\n",
        "from google.colab import drive\n",
        "drive.mount('/content/drive', force_remount=True)\n",
        "import sys\n",
        "%cd /content/drive/My\\ Drive/Winter\\ 2022/CME241"
      ]
    },
    {
      "cell_type": "code",
      "execution_count": 2,
      "metadata": {
        "id": "r394i0lObkhY"
      },
      "outputs": [],
      "source": [
        "from rl.distribution import *\n",
        "from rl.markov_process import *\n",
        "from rl.markov_decision_process import *\n",
        "from rl.policy import *\n",
        "\n",
        "import matplotlib.pyplot as plt"
      ]
    },
    {
      "cell_type": "code",
      "source": [
        "from rl.chapter9.order_book import *"
      ],
      "metadata": {
        "id": "z9r2v5veM2cU"
      },
      "execution_count": 158,
      "outputs": []
    },
    {
      "cell_type": "markdown",
      "metadata": {
        "id": "EcY29EPnRizD"
      },
      "source": [
        "#1. Order Book Dynamics"
      ]
    },
    {
      "cell_type": "markdown",
      "source": [
        "First, we will try to investigate on how the class OrderBook works. \n",
        "\n",
        "Let us consider a simple example, where the orderbook is small. Says the orderbook contains \n",
        "1. descending_bids = [(4.00, 2), (3.70, 3), (2.10, 1)]\n",
        "2. ascending_asks = [(4.05, 4), (4.3, 7)]"
      ],
      "metadata": {
        "id": "lDShW0BcK7Gr"
      }
    },
    {
      "cell_type": "code",
      "source": [
        "descending_bids = [DollarsAndShares(dollars=4.00, shares=2), DollarsAndShares(dollars=3.70, shares=3), DollarsAndShares(dollars=2.10, shares=1)]\n",
        "ascending_asks = [DollarsAndShares(dollars=4.05, shares=4), DollarsAndShares(dollars=4.30, shares=7)]"
      ],
      "metadata": {
        "id": "Opr2ZEEqQPPL"
      },
      "execution_count": 4,
      "outputs": []
    },
    {
      "cell_type": "markdown",
      "source": [
        "From the bids and asks, we can create an orderbook"
      ],
      "metadata": {
        "id": "VcflSXKoQ0He"
      }
    },
    {
      "cell_type": "code",
      "source": [
        "Book = OrderBook(descending_bids=descending_bids, ascending_asks=ascending_asks)"
      ],
      "metadata": {
        "id": "BAr3BR1uQyem"
      },
      "execution_count": 5,
      "outputs": []
    },
    {
      "cell_type": "code",
      "source": [
        "print('Bid Price: ', Book.bid_price())\n",
        "print('Ask Price: ', Book.ask_price())\n",
        "print('Mid Price: ', Book.mid_price())\n",
        "print('Spread: ', Book.bid_ask_spread())\n",
        "print('Depth: ', Book.market_depth())\n",
        "\n",
        "Book.display_order_book()"
      ],
      "metadata": {
        "colab": {
          "base_uri": "https://localhost:8080/",
          "height": 380
        },
        "id": "SuGNTLlGQ921",
        "outputId": "25c35f43-968b-4e02-a430-dfe91fa93c31"
      },
      "execution_count": 6,
      "outputs": [
        {
          "output_type": "stream",
          "name": "stdout",
          "text": [
            "Bid Price:  4.0\n",
            "Ask Price:  4.05\n",
            "Mid Price:  4.025\n",
            "Spread:  0.04999999999999982\n",
            "Depth:  2.1999999999999997\n"
          ]
        },
        {
          "output_type": "display_data",
          "data": {
            "image/png": "[encoded data removed]",
            "text/plain": [
              "<Figure size 432x288 with 1 Axes>"
            ]
          },
          "metadata": {
            "needs_background": "light"
          }
        }
      ]
    },
    {
      "cell_type": "markdown",
      "source": [
        "If we try to push a sell limit order (ask) for a price higher than the (highest) bids, the transaction will not occur and the sell limit order will be added into the ascending_asks in the orderbook."
      ],
      "metadata": {
        "id": "6F7NPQFOtzOe"
      }
    },
    {
      "cell_type": "code",
      "source": [
        "Book.descending_bids"
      ],
      "metadata": {
        "colab": {
          "base_uri": "https://localhost:8080/"
        },
        "id": "9NeMdX6rvvFq",
        "outputId": "5e416b3e-ffa3-41b9-d543-6196cf4bd349"
      },
      "execution_count": 7,
      "outputs": [
        {
          "output_type": "execute_result",
          "data": {
            "text/plain": [
              "[DollarsAndShares(dollars=4.0, shares=2),\n",
              " DollarsAndShares(dollars=3.7, shares=3),\n",
              " DollarsAndShares(dollars=2.1, shares=1)]"
            ]
          },
          "metadata": {},
          "execution_count": 7
        }
      ]
    },
    {
      "cell_type": "code",
      "source": [
        "Book.sell_limit_order(price = 8.00, shares=3)[0]"
      ],
      "metadata": {
        "colab": {
          "base_uri": "https://localhost:8080/"
        },
        "id": "-aPO5QpmtcsQ",
        "outputId": "381608e8-2587-4410-c58e-2e67cc8dd4d2"
      },
      "execution_count": 8,
      "outputs": [
        {
          "output_type": "execute_result",
          "data": {
            "text/plain": [
              "DollarsAndShares(dollars=0.0, shares=0)"
            ]
          },
          "metadata": {},
          "execution_count": 8
        }
      ]
    },
    {
      "cell_type": "markdown",
      "source": [
        "If we push a sell limit order cheaper than the bids, the bids will be eaten until the best bid is lower than the sell limit order price. The price that the seller will get is the price in the limit order book."
      ],
      "metadata": {
        "id": "UqY8hIOrvQc6"
      }
    },
    {
      "cell_type": "code",
      "source": [
        "Book.sell_limit_order(price = 3.00, shares=8)[0]"
      ],
      "metadata": {
        "colab": {
          "base_uri": "https://localhost:8080/"
        },
        "id": "SISMoxbovz89",
        "outputId": "7e86944f-88f2-4fbc-a708-637222310e24"
      },
      "execution_count": 9,
      "outputs": [
        {
          "output_type": "execute_result",
          "data": {
            "text/plain": [
              "DollarsAndShares(dollars=19.1, shares=5)"
            ]
          },
          "metadata": {},
          "execution_count": 9
        }
      ]
    },
    {
      "cell_type": "markdown",
      "source": [
        "Next, we try to use market order."
      ],
      "metadata": {
        "id": "wyZr5oKWy1nA"
      }
    },
    {
      "cell_type": "code",
      "source": [
        "Book.sell_market_order(shares=8)[0]"
      ],
      "metadata": {
        "colab": {
          "base_uri": "https://localhost:8080/"
        },
        "id": "vyPuYE10yyMs",
        "outputId": "c87a1248-536e-49e5-cbc7-f94eefa65401"
      },
      "execution_count": 10,
      "outputs": [
        {
          "output_type": "execute_result",
          "data": {
            "text/plain": [
              "DollarsAndShares(dollars=21.200000000000003, shares=6)"
            ]
          },
          "metadata": {},
          "execution_count": 10
        }
      ]
    },
    {
      "cell_type": "markdown",
      "source": [
        "We have also seen that if we want to buy more than the supply exists, we can buy only upto the total supply."
      ],
      "metadata": {
        "id": "ECwYJllSZdVI"
      }
    },
    {
      "cell_type": "markdown",
      "source": [
        "##Simple Model"
      ],
      "metadata": {
        "id": "92NhAmX6wPRA"
      }
    },
    {
      "cell_type": "markdown",
      "source": [
        "###  Zero-Intelligence Model (2002)"
      ],
      "metadata": {
        "id": "JfxJOA6oWW57"
      }
    },
    {
      "cell_type": "markdown",
      "source": [
        "We first consider a simple model of the double auction seen in the limited order book. We will first consider the case when the inputing limit orders and market orders are iid. suggested by the paper \"Statistical Theory of the Continuous Double Auction\" Smith et al., 2002. In the paper, the idea of zero-intelligence is assumed, allowing the orders to be independent. In this framework, the market orders are poissons. The cancellation orders are small Bernouli random variables (when the random variable is 1, removes the whole order.) The limit order is then uniform (in price) and poisson in quantity. The boundary of the buy limit order will be the highest bid price and $+\\infty$. The boundary of the sell limit order will be $-\\infty$ and the lowest ask price.\n",
        "\n",
        "(Another note is that the paper use log price instead of price, so the price of $-\\infty$ is indeed zero)\n",
        "\n"
      ],
      "metadata": {
        "id": "QNhQi68mxZe4"
      }
    },
    {
      "cell_type": "markdown",
      "source": [
        "###Our Implementation"
      ],
      "metadata": {
        "id": "l7SixZTVWau2"
      }
    },
    {
      "cell_type": "markdown",
      "source": [
        "In this case, we do not consider cancellation.\n",
        "\n",
        "Note that in the paper, they let the distribution of the limit order to be unbounded, and consider the price far from the midprice to be stationary (birth by limit order and death by cancellation.). THus, we will then want to change the limit order to be bounded (otherwise the prices farther from the midprice will stay there forever).\n",
        "\n",
        "Thus, we can assume that the sell market order is poisson with a parameter $\\mu$, and the buy market order is poisson with a parameter $\\mu$\n",
        "\n",
        "For the buy limit order, we therefore, limit the let the price be uniformly at random from [bid_price, high] and select N prices at each timesteps. \n",
        "\n",
        "For the sell limit order, we therefore, limit the let the price be uniformly at random from [low, ask_price] and select N prices at each timesteps. "
      ],
      "metadata": {
        "id": "h38EIRvDWUru"
      }
    },
    {
      "cell_type": "code",
      "source": [
        "#Low price, high price\n",
        "low_price: float = 20.0\n",
        "high_price: float = 150.0\n",
        "\n",
        "#Market order parameters(Note that we use different notation from the paper)\n",
        "sell_market_order_rate: float = 13.8\n",
        "buy_market_order_rate: float = 13.8\n",
        "\n",
        "#Limit order parameters\n",
        "sell_limit_N: int = 6\n",
        "buy_limit_N: int = 6\n",
        "sell_limit_order_rate: float = 2.9\n",
        "buy_limit_order_rate: float = 2.9"
      ],
      "metadata": {
        "id": "-UhkJWC_Zu9h"
      },
      "execution_count": 111,
      "outputs": []
    },
    {
      "cell_type": "markdown",
      "source": [
        "Initilaize Book."
      ],
      "metadata": {
        "id": "SaSipIJ8elUC"
      }
    },
    {
      "cell_type": "code",
      "source": [
        "descending_bids = []\n",
        "ascending_asks = []\n",
        "\n",
        "Book = OrderBook(descending_bids=descending_bids, ascending_asks=ascending_asks)"
      ],
      "metadata": {
        "id": "-ZWGqirrek0j"
      },
      "execution_count": 112,
      "outputs": []
    },
    {
      "cell_type": "markdown",
      "source": [
        "We will submit market orders first."
      ],
      "metadata": {
        "id": "brGqJIbKlY5B"
      }
    },
    {
      "cell_type": "code",
      "source": [
        "#Buy market order\n",
        "receipt, Book = Book.buy_market_order(np.random.poisson(buy_market_order_rate))\n",
        "\n",
        "#Sell market order\n",
        "receipt, Book = Book.sell_market_order(np.random.poisson(sell_market_order_rate))"
      ],
      "metadata": {
        "id": "y1btIXC6lbOE"
      },
      "execution_count": 113,
      "outputs": []
    },
    {
      "cell_type": "markdown",
      "source": [
        "Afterwards, we will submit limit orders."
      ],
      "metadata": {
        "id": "A-GSZ46mez0c"
      }
    },
    {
      "cell_type": "code",
      "source": [
        "#Sell limit order\n",
        "\n",
        "#First, we have to find the ask price.\n",
        "#Note that if we start with empty book, the ask price will not exist.\n",
        "#Thus, we will use high_price instead.\n",
        "if len(Book.ascending_asks) == 0:\n",
        "  ask_price = high_price\n",
        "else:\n",
        "  ask_price = Book.ask_price()\n",
        "\n",
        "#Find prices and qunatities\n",
        "sell_price = np.random.uniform(low=low_price, high=ask_price, size=sell_limit_N)\n",
        "sell_quantity = np.random.poisson(lam=sell_limit_order_rate, size=sell_limit_N)\n",
        "\n",
        "#Submit limit sell orders\n",
        "for i in range(sell_limit_N):\n",
        "  receipt, Book = Book.sell_limit_order(sell_price[i], sell_quantity[i])"
      ],
      "metadata": {
        "id": "07iNcoISdoLm"
      },
      "execution_count": 114,
      "outputs": []
    },
    {
      "cell_type": "code",
      "source": [
        "#Buy limit order\n",
        "\n",
        "#First, we have to find the bid price.\n",
        "#Note that if we start with empty book, the ask price will not exist.\n",
        "#Thus, we will use high_price instead.\n",
        "if len(Book.descending_bids) == 0:\n",
        "  bid_price = low_price\n",
        "else:\n",
        "  bid_price = Book.bid_price()\n",
        "\n",
        "#Find prices and qunatities\n",
        "buy_price = np.random.uniform(low=bid_price, high=high_price, size=buy_limit_N)\n",
        "buy_quantity = np.random.poisson(lam=buy_limit_order_rate, size=buy_limit_N)\n",
        "\n",
        "#Submit limit buy orders\n",
        "for i in range(buy_limit_N):\n",
        "  receipt, Book = Book.buy_limit_order(buy_price[i], buy_quantity[i])"
      ],
      "metadata": {
        "id": "nN-i9h34eIbf"
      },
      "execution_count": 115,
      "outputs": []
    },
    {
      "cell_type": "code",
      "source": [
        "Book.display_order_book()"
      ],
      "metadata": {
        "colab": {
          "base_uri": "https://localhost:8080/",
          "height": 295
        },
        "id": "Yis9fnLhgeo6",
        "outputId": "604bfe6c-ead2-42ac-a750-4e4a62b54c1a"
      },
      "execution_count": 116,
      "outputs": [
        {
          "output_type": "display_data",
          "data": {
            "image/png": "[encoded data removed]",
            "text/plain": [
              "<Figure size 432x288 with 1 Axes>"
            ]
          },
          "metadata": {
            "needs_background": "light"
          }
        }
      ]
    },
    {
      "cell_type": "markdown",
      "source": [
        "We can then find the next state."
      ],
      "metadata": {
        "id": "oArihqK5ltm0"
      }
    },
    {
      "cell_type": "code",
      "source": [
        "receipt, Book = Book.buy_market_order(np.random.poisson(buy_market_order_rate))\n",
        "receipt, Book = Book.sell_market_order(np.random.poisson(sell_market_order_rate))\n",
        "if len(Book.ascending_asks) == 0:\n",
        "  ask_price = high_price\n",
        "else:\n",
        "  ask_price = Book.ask_price()\n",
        "sell_price = np.random.uniform(low=low_price, high=ask_price, size=sell_limit_N)\n",
        "sell_quantity = np.random.poisson(lam=sell_limit_order_rate, size=sell_limit_N)\n",
        "for i in range(sell_limit_N):\n",
        "  receipt, Book = Book.sell_limit_order(sell_price[i], sell_quantity[i])\n",
        "if len(Book.descending_bids) == 0:\n",
        "  bid_price = low_price\n",
        "else:\n",
        "  bid_price = Book.bid_price()\n",
        "buy_price = np.random.uniform(low=bid_price, high=high_price, size=buy_limit_N)\n",
        "buy_quantity = np.random.poisson(lam=buy_limit_order_rate, size=buy_limit_N)\n",
        "for i in range(buy_limit_N):\n",
        "  receipt, Book = Book.buy_limit_order(buy_price[i], buy_quantity[i])"
      ],
      "metadata": {
        "id": "-Ml-2nSeeSvv"
      },
      "execution_count": 117,
      "outputs": []
    },
    {
      "cell_type": "code",
      "source": [
        "Book.display_order_book()"
      ],
      "metadata": {
        "colab": {
          "base_uri": "https://localhost:8080/",
          "height": 295
        },
        "id": "e7CfEjx0ed8R",
        "outputId": "07fe4830-46a7-4243-b077-54fc96a823a1"
      },
      "execution_count": 118,
      "outputs": [
        {
          "output_type": "display_data",
          "data": {
            "image/png": "[encoded data removed]",
            "text/plain": [
              "<Figure size 432x288 with 1 Axes>"
            ]
          },
          "metadata": {
            "needs_background": "light"
          }
        }
      ]
    },
    {
      "cell_type": "markdown",
      "source": [
        "### Transition"
      ],
      "metadata": {
        "id": "7v0nIwNJmUqJ"
      }
    },
    {
      "cell_type": "markdown",
      "source": [
        "From this point, we can create the transition parameterized by\n",
        "1. low_price\n",
        "2. high_price\n",
        "3. sell_market_order_rate\n",
        "4. buy_market_order_rate\n",
        "5. sell_limit_N\n",
        "6. buy_limit_N\n",
        "7. sell_limit_order_rate\n",
        "8. buy_limit_order_rate\n"
      ],
      "metadata": {
        "id": "5Qe-VKqWmXsU"
      }
    },
    {
      "cell_type": "code",
      "source": [
        "@dataclass(frozen=True)\n",
        "class transition_parameters:\n",
        "  #Low price, high price\n",
        "  low_price: float = 20.0\n",
        "  high_price: float = 150.0\n",
        "\n",
        "  #Market order parameters(Note that we use different notation from the paper)\n",
        "  sell_market_order_rate: float = 13.8\n",
        "  buy_market_order_rate: float = 13.8\n",
        "\n",
        "  #Limit order parameters\n",
        "  sell_limit_N: int = 6\n",
        "  buy_limit_N: int = 6\n",
        "  sell_limit_order_rate: float = 2.9\n",
        "  buy_limit_order_rate: float = 2.9"
      ],
      "metadata": {
        "id": "kRi7Z-P6kORG"
      },
      "execution_count": 128,
      "outputs": []
    },
    {
      "cell_type": "code",
      "source": [
        "def orderbook_transition(Book: OrderBook, parameters: transition_parameters) -> OrderBook:\n",
        "    receipt, Book = Book.buy_market_order(np.random.poisson(parameters.buy_market_order_rate))\n",
        "    receipt, Book = Book.sell_market_order(np.random.poisson(parameters.sell_market_order_rate))\n",
        "    if len(Book.ascending_asks) == 0:\n",
        "      ask_price = parameters.high_price\n",
        "    else:\n",
        "      ask_price = Book.ask_price()\n",
        "    sell_price = np.random.uniform(low=parameters.low_price, high=ask_price, size=parameters.sell_limit_N)\n",
        "    sell_quantity = np.random.poisson(lam=parameters.sell_limit_order_rate, size=parameters.sell_limit_N)\n",
        "    for i in range(parameters.sell_limit_N):\n",
        "      receipt, Book = Book.sell_limit_order(sell_price[i], sell_quantity[i])\n",
        "    if len(Book.descending_bids) == 0:\n",
        "      bid_price = parameters.low_price\n",
        "    else:\n",
        "      bid_price = Book.bid_price()\n",
        "    buy_price = np.random.uniform(low=bid_price, high=parameters.high_price, size=parameters.buy_limit_N)\n",
        "    buy_quantity = np.random.poisson(lam=parameters.buy_limit_order_rate, size=parameters.buy_limit_N)\n",
        "    for i in range(parameters.buy_limit_N):\n",
        "      receipt, Book = Book.buy_limit_order(buy_price[i], buy_quantity[i])\n",
        "    return Book"
      ],
      "metadata": {
        "id": "a3HkId95pD8I"
      },
      "execution_count": 143,
      "outputs": []
    },
    {
      "cell_type": "code",
      "source": [
        "parameters = transition_parameters()\n",
        "Book = orderbook_transition(Book, parameters)\n",
        "Book.display_order_book()"
      ],
      "metadata": {
        "colab": {
          "base_uri": "https://localhost:8080/",
          "height": 295
        },
        "id": "e5L1Fgy7nClb",
        "outputId": "adba0700-fb81-455c-849d-3b35fa199d6f"
      },
      "execution_count": 153,
      "outputs": [
        {
          "output_type": "display_data",
          "data": {
            "image/png": "[encoded data removed]",
            "text/plain": [
              "<Figure size 432x288 with 1 Axes>"
            ]
          },
          "metadata": {
            "needs_background": "light"
          }
        }
      ]
    },
    {
      "cell_type": "markdown",
      "source": [
        "###Stationary(?)"
      ],
      "metadata": {
        "id": "-vsFtIPL4ExO"
      }
    },
    {
      "cell_type": "markdown",
      "source": [
        "The paper shows that the fact that we limit the boundary of the limit sell and limit buy orders to not be exercised immediately, the coupling between the limit order process and the market order process will lead to stationary spread. (One can think of the market porcess to widen the spread and the limit procerss to reduce the spread)."
      ],
      "metadata": {
        "id": "41qFrMKh4JPD"
      }
    },
    {
      "cell_type": "markdown",
      "source": [
        "Since we have modified the model from the proposed model in the paper, we then want to test (as a sanity check) to see whether the characteristic is still likely to be held by simulation.\n",
        "\n",
        "In this one, we will set the number of limit order to be 1 per time step."
      ],
      "metadata": {
        "id": "Eu1PkLHC4uaE"
      }
    },
    {
      "cell_type": "code",
      "source": [
        "transition_parameters(sell_limit_N=1, buy_limit_N=1, sell_market_order_rate=1.3, buy_market_order_rate=1.3, sell_limit_order_rate=1.3, buy_limit_order_rate=1.3)"
      ],
      "metadata": {
        "colab": {
          "base_uri": "https://localhost:8080/"
        },
        "id": "VrmruFGB4Dwd",
        "outputId": "2af3f40c-ded9-47c3-b21c-07cecba73246"
      },
      "execution_count": 154,
      "outputs": [
        {
          "output_type": "execute_result",
          "data": {
            "text/plain": [
              "transition_parameters(low_price=20.0, high_price=150.0, sell_market_order_rate=1.3, buy_market_order_rate=1.3, sell_limit_N=1, buy_limit_N=1, sell_limit_order_rate=1.3, buy_limit_order_rate=1.3)"
            ]
          },
          "metadata": {},
          "execution_count": 154
        }
      ]
    },
    {
      "cell_type": "markdown",
      "source": [
        ""
      ],
      "metadata": {
        "id": "r999Bn8Q5k6G"
      }
    },
    {
      "cell_type": "code",
      "source": [
        "#Inintialize Empty Book\n",
        "descending_bids=[]\n",
        "ascending_asks=[]\n",
        "Book = OrderBook(descending_bids=descending_bids, ascending_asks=ascending_asks)\n",
        "\n",
        "Spreads = []\n",
        "\n",
        "num_steps = 80000\n",
        "for i in range(num_steps):\n",
        "  Book = orderbook_transition(Book, parameters)\n",
        "  if len(Book.ascending_asks)>0 and len(Book.descending_bids)>0:\n",
        "    spread = Book.bid_ask_spread()\n",
        "    Spreads.append(spread)"
      ],
      "metadata": {
        "id": "jSVvq77l5loN"
      },
      "execution_count": 190,
      "outputs": []
    },
    {
      "cell_type": "code",
      "source": [
        "plt.plot(Spreads[0:100])\n",
        "plt.show()"
      ],
      "metadata": {
        "colab": {
          "base_uri": "https://localhost:8080/",
          "height": 265
        },
        "id": "yFbmB-nS64c2",
        "outputId": "7066089d-05a5-4e9c-8dab-149c39913dd0"
      },
      "execution_count": 191,
      "outputs": [
        {
          "output_type": "display_data",
          "data": {
            "image/png": "[encoded data removed]",
            "text/plain": [
              "<Figure size 432x288 with 1 Axes>"
            ]
          },
          "metadata": {
            "needs_background": "light"
          }
        }
      ]
    },
    {
      "cell_type": "markdown",
      "source": [
        "To evaluate whether the process is likely to be stationary or not we will try to evaluate the moving average and moving variance"
      ],
      "metadata": {
        "id": "HXHvr17L7fS3"
      }
    },
    {
      "cell_type": "code",
      "source": [
        "window_size = 3000\n",
        "\n",
        "#Moving Average\n",
        "ma = np.convolve(Spreads, np.ones(window_size), 'valid') / window_size\n",
        "\n",
        "#Moving STD\n",
        "mstd = np.sqrt(np.convolve(np.square(Spreads), np.ones(window_size), 'valid') / window_size - np.square(ma))"
      ],
      "metadata": {
        "id": "Fn0gTHwC7drk"
      },
      "execution_count": 192,
      "outputs": []
    },
    {
      "cell_type": "code",
      "source": [
        "plt.plot(ma)\n",
        "plt.title('Moving Average')\n",
        "plt.show()"
      ],
      "metadata": {
        "colab": {
          "base_uri": "https://localhost:8080/",
          "height": 281
        },
        "id": "BLQHeD8T8W8S",
        "outputId": "6daf6585-8879-47c6-d86f-faa3a0433fcb"
      },
      "execution_count": 193,
      "outputs": [
        {
          "output_type": "display_data",
          "data": {
            "image/png": "[encoded data removed]",
            "text/plain": [
              "<Figure size 432x288 with 1 Axes>"
            ]
          },
          "metadata": {
            "needs_background": "light"
          }
        }
      ]
    },
    {
      "cell_type": "code",
      "source": [
        "plt.plot(mstd)\n",
        "plt.title('Moving STD')\n",
        "plt.show()"
      ],
      "metadata": {
        "colab": {
          "base_uri": "https://localhost:8080/",
          "height": 281
        },
        "id": "8A-Px6D58Zeb",
        "outputId": "97554ab1-d44a-40bb-8cbb-0a96e0c3a5ab"
      },
      "execution_count": 194,
      "outputs": [
        {
          "output_type": "display_data",
          "data": {
            "image/png": "[encoded data removed]",
            "text/plain": [
              "<Figure size 432x288 with 1 Axes>"
            ]
          },
          "metadata": {
            "needs_background": "light"
          }
        }
      ]
    },
    {
      "cell_type": "markdown",
      "source": [
        "This may not be able to confirm the stationarity, but we, at least, get that it is possible to be stationary. (At least, the moving average does not explode to infinity.)"
      ],
      "metadata": {
        "id": "s1jDYYaN9IhR"
      }
    },
    {
      "cell_type": "markdown",
      "source": [
        "#2. LPT Price Impact"
      ],
      "metadata": {
        "id": "z_-_nJlfpjrT"
      }
    },
    {
      "cell_type": "markdown",
      "source": [
        "In the paper \"Statistical Theory of the Continuous Double Auction\" Smith et al., 2002, we used as a reference above. The price impact (in the logarithmic scale) is concave. The emprical data also suggests the concavity in the log(impact price). "
      ],
      "metadata": {
        "id": "UdbPbmMcpxqA"
      }
    }
  ],
  "metadata": {
    "colab": {
      "name": "Assignment9.ipynb",
      "provenance": []
    },
    "kernelspec": {
      "display_name": "Python 3",
      "name": "python3"
    },
    "language_info": {
      "name": "python"
    }
  },
  "nbformat": 4,
  "nbformat_minor": 0
}