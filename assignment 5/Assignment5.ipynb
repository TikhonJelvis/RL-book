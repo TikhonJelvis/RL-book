{
  "cells": [
    {
      "cell_type": "markdown",
      "metadata": {
        "id": "9zY0nC5dRQZo"
      },
      "source": [
        "**ReadMe**\n",
        "\n",
        "The question 1 is answered in part 1."
      ]
    },
    {
      "cell_type": "code",
      "execution_count": 1,
      "metadata": {
        "colab": {
          "base_uri": "https://localhost:8080/"
        },
        "id": "sQ7fOoXubGwK",
        "outputId": "7b4bcbf9-f6e0-47f1-b5ba-4387b4e08e6f"
      },
      "outputs": [
        {
          "output_type": "stream",
          "name": "stdout",
          "text": [
            "Mounted at /content/drive\n",
            "/content/drive/My Drive/Winter 2022/CME241\n"
          ]
        }
      ],
      "source": [
        "# This mounts your Google Drive to the Colab VM.\n",
        "from google.colab import drive\n",
        "drive.mount('/content/drive', force_remount=True)\n",
        "import sys\n",
        "%cd /content/drive/My\\ Drive/Winter\\ 2022/CME241"
      ]
    },
    {
      "cell_type": "code",
      "execution_count": 2,
      "metadata": {
        "id": "r394i0lObkhY"
      },
      "outputs": [],
      "source": [
        "from rl.distribution import *\n",
        "from rl.function_approx import *\n",
        "from rl.markov_decision_process import *\n",
        "from rl.policy import *\n",
        "from rl.dynamic_programming import *\n",
        "from scipy.stats import poisson, norm\n",
        "import numpy as np\n",
        "from itertools import islice\n",
        "from rl.gen_utils.plot_funcs import plot_list_of_curves\n",
        "import matplotlib.pyplot as plt\n",
        "import time\n",
        "from typing import Tuple, Sequence, Iterator, List\n",
        "from __future__ import annotations"
      ]
    },
    {
      "cell_type": "markdown",
      "source": [
        "#1. Univariate BSpline"
      ],
      "metadata": {
        "id": "wkqTP3XaDjjr"
      }
    },
    {
      "cell_type": "code",
      "source": [
        "#X-Input: float\n",
        "#Y-Output:float\n",
        "@dataclass(frozen=True)\n",
        "class UnivariateBSplineApprox(FunctionApprox[float]):\n",
        "    degree: int\n",
        "    knots: np.ndarray = field(default_factory=lambda: np.array([]))\n",
        "    coeffs: np.ndarray = field(default_factory=lambda: np.array([]))\n",
        "\n",
        "    def representational_gradient(self, x_value: float) -> UnivariateBSplineApprox:\n",
        "        eps: float = 1e-6\n",
        "        one_hots: np.array = np.eye(len(self.coeffs))\n",
        "        coeffs_grad=np.array([(BSpline(self.knots, c + one_hots[i] * eps, self.degree)(x_value) - BSpline(self.knots,c - one_hots[i] * eps,self.degree)(x_value)) / (2 * eps) for i, c in enumerate(self.coeffs)])\n",
        "        \n",
        "    def objective_gradient(\n",
        "        self,\n",
        "        xy_vals_seq: Iterable[Tuple[float, float]],\n",
        "        obj_deriv_out_fun: Callable[[Sequence[float], Sequence[float]], float]\n",
        "    ) -> Gradient[UnivariateBSplineApprox]:\n",
        "        return Gradient(replace(self, coeffs=np.zeros_like(self.coeffs)))\n",
        "\n",
        "    def evaluate(self, x_values_seq: Iterable[float]) -> np.ndarray:\n",
        "        spline_func: Callable[[Sequence[float]], np.ndarray] = \\\n",
        "            BSpline(self.knots, self.coeffs, self.degree)\n",
        "        return spline_func(x_values_seq)\n",
        "\n",
        "    def update(\n",
        "        self,\n",
        "        xy_vals_seq: Iterable[Tuple[float, float]]\n",
        "    ) -> BSplineApprox[X]:\n",
        "        sorted_pairs: Sequence[Tuple[float, float]] = sorted(xy_vals_seq)\n",
        "        new_knots, new_coeffs, _ = splrep([f for f, _ in sorted_pairs], [y for _, y in sorted_pairs], k=self.degree)\n",
        "        return replace(self, knots=new_knots, coeffs=new_coeffs)\n",
        "\n",
        "    def solve(\n",
        "        self,\n",
        "        xy_vals_seq: Iterable[Tuple[float, float]],\n",
        "    ) -> BSplineApprox[X]:\n",
        "        return self.update(xy_vals_seq)\n",
        "\n",
        "    def within(self, other: FunctionApprox[float], tolerance: float) -> bool:\n",
        "        if isinstance(other, UnivariateBSplineApprox):\n",
        "            return np.all(np.abs(self.knots - other.knots) <= tolerance).item() and np.all(np.abs(self.coeffs - other.coeffs) <= tolerance).item()\n",
        "        return False\n",
        "\n",
        "    def __add__(self, other: UnivariateBSplineApprox) -> UnivariateBSplineApprox:\n",
        "        return replace(self, knots = self.knots + other.knots, coeffs = self.coeffs + other.coeffs)\n",
        "\n",
        "    def __mul__(self, scalar: float) -> UnivariateBSplineApprox:\n",
        "        return replace(self, knots = scalar*self.knots, coeffs = scalar*self.coeffs)\n",
        "\n",
        "    def update_with_gradient(self, gradient: Gradient[UnivariateBSplineApprox]) -> UnivariateBSplineApprox:\n",
        "        return replace(self, coeffs=self.update(gradient.function_approx.coeffs))"
      ],
      "metadata": {
        "id": "EemSD-2GJ5J7"
      },
      "execution_count": 5,
      "outputs": []
    },
    {
      "cell_type": "code",
      "source": [
        "#Type of X-input\n",
        "input_type = float\n",
        "#Type of X-input concatenated with Y-output\n",
        "input_output_type = Tuple[float, float]\n",
        "#Sequence of X-input and Y-output pair\n",
        "DataSeq = Sequence[Tuple[input_type, float]]\n",
        "\n",
        "def example_model_data_generator() -> Iterator[Tuple[input_type, float]]:\n",
        "  coeffs: input_output_type = (2., -6.)\n",
        "  d = norm(loc=0., scale=0.1)\n",
        "  while True:\n",
        "    pt: float = np.random.randn()\n",
        "    x_val: input_type = pt\n",
        "    y_val: float = coeffs[0] + coeffs[1] * np.sin(pt/1.2) + d.rvs(size=1)[0]\n",
        "    yield tuple((x_val, y_val))\n",
        "\n",
        "def data_seq_generator(data_generator: Iterator[Tuple[input_type, float]], num_pts: int) -> Iterator[DataSeq]:\n",
        "  while True:\n",
        "    pts: DataSeq = list(islice(data_generator, num_pts))\n",
        "    yield pts\n",
        "\n",
        "def feature_functions():\n",
        "  return [lambda _: 1., lambda x: x]\n",
        "\n",
        "def adam_gradient():\n",
        "  return AdamGradient(learning_rate=1, decay1=0.9, decay2=0.999)\n",
        "\n",
        "def get_linear_model() -> LinearFunctionApprox[input_type]:\n",
        "    ffs = feature_functions()\n",
        "    ag = adam_gradient()\n",
        "    return LinearFunctionApprox.create(feature_functions=ffs, adam_gradient=ag, regularization_coeff=0., direct_solve=True)\n",
        "\n",
        "training_num_pts: int = 70\n",
        "test_num_pts: int = 100\n",
        "data_gen: Iterator[Tuple[input_type, float]] = example_model_data_generator()\n",
        "training_data_gen: Iterator[DataSeq] = data_seq_generator(data_gen, training_num_pts)\n",
        "test_data: DataSeq = list(islice(data_gen, test_num_pts))\n",
        "\n",
        "train_data = next(training_data_gen)\n",
        "\n",
        "Linear = get_linear_model()\n",
        "Linear = Linear.solve(train_data)\n",
        "Linear_rmse: float = Linear.rmse(test_data)\n",
        "print(f\"Linear Model RMSE = {Linear_rmse:.3f}\")\n",
        "\n",
        "Spline = UnivariateBSplineApprox(3)\n",
        "Spline = Spline.solve(train_data)\n",
        "Spline_rmse: float = Spline.rmse(test_data)\n",
        "print(f\"Spline Model RMSE = {Spline_rmse:.3f}\")\n",
        "\n",
        "x_plot, y_plot = zip(*test_data)\n",
        "\n",
        "max_x = max(x_plot)\n",
        "min_x = min(x_plot)\n",
        "\n",
        "spline_x_plot = np.linspace(min_x, max_x, 400)\n",
        "spline_y_plot = Spline.evaluate(spline_x_plot)\n",
        "\n",
        "linear_y_plot = Linear.evaluate(spline_x_plot)\n",
        "\n",
        "plt.plot(spline_x_plot, spline_y_plot, label='Spline')\n",
        "plt.plot(spline_x_plot, linear_y_plot, label='Linear')\n",
        "plt.scatter(x_plot, y_plot, label='Test Data')\n",
        "plt.legend()\n",
        "plt.show()"
      ],
      "metadata": {
        "colab": {
          "base_uri": "https://localhost:8080/",
          "height": 299
        },
        "id": "gY8wXRC93EMx",
        "outputId": "41ffb2cd-15fc-49c3-ee01-13063aa91ccb"
      },
      "execution_count": 7,
      "outputs": [
        {
          "output_type": "stream",
          "name": "stdout",
          "text": [
            "Linear Model RMSE = 0.989\n",
            "Spline Model RMSE = 0.357\n"
          ]
        },
        {
          "output_type": "display_data",
          "data": {
            "image/png": "[encoded data removed]",
            "text/plain": [
              "<Figure size 432x288 with 1 Axes>"
            ]
          },
          "metadata": {
            "needs_background": "light"
          }
        }
      ]
    }
  ],
  "metadata": {
    "colab": {
      "name": "Assignment5.ipynb",
      "provenance": []
    },
    "kernelspec": {
      "display_name": "Python 3",
      "name": "python3"
    },
    "language_info": {
      "name": "python"
    }
  },
  "nbformat": 4,
  "nbformat_minor": 0
}